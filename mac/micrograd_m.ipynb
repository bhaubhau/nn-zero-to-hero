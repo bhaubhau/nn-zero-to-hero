{
 "cells": [
  {
   "cell_type": "code",
   "execution_count": 2,
   "id": "9bac194c-ccc4-43fb-9642-ffb49db6bc90",
   "metadata": {},
   "outputs": [
    {
     "name": "stdout",
     "output_type": "stream",
     "text": [
      "Python 3.10.12\n"
     ]
    }
   ],
   "source": [
    "!python3 --version"
   ]
  },
  {
   "cell_type": "code",
   "execution_count": null,
   "id": "51dc0a39-8935-445d-8d4a-d5671f07c633",
   "metadata": {},
   "outputs": [],
   "source": [
    "!brew install pyenv\n",
    "!pyenv install 3.10.12\n",
    "!$HOME/.pyenv/versions/3.10.12/python3 -m venv ./myenv\n",
    "!source ./myenv/bin/activate\n",
    "!pip install --upgrade pip\n",
    "!pip install --upgrade jupyterlab\n",
    "!pip install --upgrade jupyterlab-git"
   ]
  },
  {
   "cell_type": "code",
   "execution_count": 4,
   "id": "8b4e4caf-9870-4dfd-bb94-05e637d0b367",
   "metadata": {},
   "outputs": [],
   "source": [
    "!pip3 install -U numpy matplotlib graphviz torch --quiet"
   ]
  },
  {
   "cell_type": "code",
   "execution_count": 2,
   "id": "02eba017-d475-42de-b335-072588359859",
   "metadata": {},
   "outputs": [],
   "source": [
    "class Value:\n",
    "\n",
    "    def __init__(self, data):\n",
    "        self.data = data\n",
    "\n",
    "    def __repr__(self):\n",
    "        return f\"Value(data={self.data})\""
   ]
  },
  {
   "cell_type": "code",
   "execution_count": 3,
   "id": "2a7a7df3-1c59-47ca-b636-88731e10cdc8",
   "metadata": {},
   "outputs": [
    {
     "data": {
      "text/plain": [
       "Value(data=2)"
      ]
     },
     "execution_count": 3,
     "metadata": {},
     "output_type": "execute_result"
    }
   ],
   "source": [
    "a = Value(2)\n",
    "a"
   ]
  },
  {
   "cell_type": "code",
   "execution_count": null,
   "id": "def8f4e1-d70c-4fbc-a0ea-8380323eabea",
   "metadata": {},
   "outputs": [],
   "source": []
  }
 ],
 "metadata": {
  "kernelspec": {
   "display_name": "Python 3 (ipykernel)",
   "language": "python",
   "name": "python3"
  },
  "language_info": {
   "codemirror_mode": {
    "name": "ipython",
    "version": 3
   },
   "file_extension": ".py",
   "mimetype": "text/x-python",
   "name": "python",
   "nbconvert_exporter": "python",
   "pygments_lexer": "ipython3",
   "version": "3.10.12"
  }
 },
 "nbformat": 4,
 "nbformat_minor": 5
}
